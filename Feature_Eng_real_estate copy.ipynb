{
 "cells": [
  {
   "cell_type": "code",
   "execution_count": null,
   "metadata": {},
   "outputs": [],
   "source": [
    "import pandas as pd\n",
    "import numpy as np\n",
    "import matplotlib.pyplot as plt\n",
    "import seaborn as sns\n"
   ]
  },
  {
   "attachments": {},
   "cell_type": "markdown",
   "metadata": {},
   "source": [
    "## 1. Understand the dataset:"
   ]
  },
  {
   "cell_type": "code",
   "execution_count": null,
   "metadata": {},
   "outputs": [],
   "source": [
    "df = pd.read_csv('./Dataset/PEP1.csv', index_col='Id')\n",
    "df.head()"
   ]
  },
  {
   "attachments": {},
   "cell_type": "markdown",
   "metadata": {},
   "source": [
    "### Printing column names"
   ]
  },
  {
   "cell_type": "code",
   "execution_count": null,
   "metadata": {},
   "outputs": [],
   "source": [
    "df.columns"
   ]
  },
  {
   "attachments": {},
   "cell_type": "markdown",
   "metadata": {},
   "source": [
    "### Identify the shape of the dataset"
   ]
  },
  {
   "cell_type": "code",
   "execution_count": null,
   "metadata": {},
   "outputs": [],
   "source": [
    "df.shape"
   ]
  },
  {
   "attachments": {},
   "cell_type": "markdown",
   "metadata": {},
   "source": [
    "### check for null values"
   ]
  },
  {
   "cell_type": "code",
   "execution_count": null,
   "metadata": {},
   "outputs": [],
   "source": [
    "mask = list(df.isna().any())\n",
    "columns_with_null = df.columns[mask]\n",
    "columns_with_null.sort_values()"
   ]
  },
  {
   "cell_type": "code",
   "execution_count": null,
   "metadata": {},
   "outputs": [],
   "source": [
    "print('total number of null values:', df.isna().sum().sum(), '\\n')\n",
    "\n",
    "missing_number = df[columns_with_null].isna().sum().sort_values(ascending=False)\n",
    "missing_percentage = missing_number / len(df)\n",
    "missing_info = pd.concat([missing_number, missing_percentage], axis=1, keys=['missing number', 'missing percentage'])\n",
    "missing_info\n"
   ]
  },
  {
   "attachments": {},
   "cell_type": "markdown",
   "metadata": {},
   "source": [
    "##### the colums PoolQC, MiscFeature, Alley, Fence and FireplaceQu have significant data missing (%)"
   ]
  },
  {
   "attachments": {},
   "cell_type": "markdown",
   "metadata": {},
   "source": [
    "### Identify variables with unique values"
   ]
  },
  {
   "cell_type": "code",
   "execution_count": null,
   "metadata": {},
   "outputs": [],
   "source": [
    "for col in df.columns:\n",
    "    print(col, \":\", df[col].unique())"
   ]
  },
  {
   "attachments": {},
   "cell_type": "markdown",
   "metadata": {},
   "source": [
    "## Select the numerical and categorical variables"
   ]
  },
  {
   "cell_type": "code",
   "execution_count": null,
   "metadata": {},
   "outputs": [],
   "source": [
    "numerical_col = df.select_dtypes(include=['int64', 'float64']).columns.tolist()\n",
    "categorical_col = df.select_dtypes(include='object').columns.tolist()\n",
    "\n",
    "print('Numerical: \\n' , numerical_col, '\\n')\n",
    "print('Categorical \\n:', categorical_col, '\\n')\n",
    "print('# of numberical columns', len(numerical_col))\n",
    "print('# of catergorical columns', len(categorical_col))"
   ]
  },
  {
   "attachments": {},
   "cell_type": "markdown",
   "metadata": {},
   "source": [
    "## 3. EDA numerical variables"
   ]
  },
  {
   "cell_type": "code",
   "execution_count": null,
   "metadata": {},
   "outputs": [],
   "source": [
    "df_numerical = df[numerical_col]"
   ]
  },
  {
   "attachments": {},
   "cell_type": "markdown",
   "metadata": {},
   "source": [
    "# 3a. Missing value treatment"
   ]
  },
  {
   "cell_type": "code",
   "execution_count": null,
   "metadata": {},
   "outputs": [],
   "source": [
    "from sklearn.impute import SimpleImputer\n",
    "\n",
    "imputer = SimpleImputer(strategy='mean')\n",
    "imputed_numerical = pd.DataFrame(imputer.fit_transform(df_numerical))\n",
    "\n",
    "imputed_numerical.columns = df_numerical.columns\n",
    "\n",
    "print(imputed_numerical.head())\n"
   ]
  },
  {
   "attachments": {},
   "cell_type": "markdown",
   "metadata": {},
   "source": [
    "# 3b Identify the skewness and distribution"
   ]
  },
  {
   "cell_type": "code",
   "execution_count": null,
   "metadata": {},
   "outputs": [],
   "source": [
    "# skewness of entire dataset\n",
    "df_numerical.skew(axis = 0, skipna=True)"
   ]
  },
  {
   "cell_type": "code",
   "execution_count": null,
   "metadata": {},
   "outputs": [],
   "source": [
    "# skewness of SalePrice\n",
    "print(\"Skewness: %f\" % df['SalePrice'].skew())"
   ]
  },
  {
   "cell_type": "code",
   "execution_count": null,
   "metadata": {},
   "outputs": [],
   "source": [
    "df['SalePrice']"
   ]
  },
  {
   "cell_type": "code",
   "execution_count": null,
   "metadata": {},
   "outputs": [],
   "source": [
    "sns.pairplot(df, diag_kind='kde')\n",
    "plt.show()"
   ]
  },
  {
   "cell_type": "code",
   "execution_count": null,
   "metadata": {},
   "outputs": [],
   "source": [
    "from scipy.stats import skew\n",
    "print(skew(imputed_numerical, bias=False))"
   ]
  },
  {
   "cell_type": "code",
   "execution_count": null,
   "metadata": {},
   "outputs": [],
   "source": [
    "sns.displot(data=imputed_numerical, x='SalePrice', kind=\"kde\", aspect=1.4, log_scale=10 )"
   ]
  },
  {
   "cell_type": "code",
   "execution_count": null,
   "metadata": {},
   "outputs": [],
   "source": [
    "from scipy.stats import kurtosis\n",
    "print(kurtosis(imputed_numerical))"
   ]
  },
  {
   "attachments": {},
   "cell_type": "markdown",
   "metadata": {},
   "source": [
    "# 3c Identify significant variables using a correlation matrix "
   ]
  },
  {
   "cell_type": "code",
   "execution_count": null,
   "metadata": {},
   "outputs": [],
   "source": [
    "numerical_corr = imputed_numerical.corr()\n",
    "numerical_corr.style.background_gradient(cmap='coolwarm')\n",
    "# print(numerical_corr)"
   ]
  },
  {
   "cell_type": "code",
   "execution_count": null,
   "metadata": {},
   "outputs": [],
   "source": [
    "salePrice_corr_feat = set()\n",
    "salePrice_corr = numerical_corr['SalePrice']\n",
    "\n",
    "for i in range(len(salePrice_corr)):\n",
    "    if (numerical_corr.columns[i] != 'SalePrice'):\n",
    "      if abs(salePrice_corr[i]) >= 0.5:\n",
    "         colname = numerical_corr.columns[i]\n",
    "         salePrice_corr_feat.add(colname)\n",
    "\n",
    "print('Variables highly correlated with SalePrice:, \\n', salePrice_corr_feat)\n"
   ]
  },
  {
   "attachments": {},
   "cell_type": "markdown",
   "metadata": {},
   "source": [
    "# 3d. Pair plot for distribution and density"
   ]
  },
  {
   "cell_type": "code",
   "execution_count": null,
   "metadata": {},
   "outputs": [],
   "source": [
    "import seaborn as sns\n",
    "cols = ['FullBath', 'YearRemodAdd', 'GarageArea', '1stFlrSF', 'GrLivArea', 'TotRmsAbvGrd', 'OverallQual', 'YearBuilt', 'TotalBsmtSF', 'GarageCars']\n",
    "significant_numerical_var = imputed_numerical[cols]\n",
    "sns.pairplot(df, vars=cols, diag_kind='kde')\n",
    "plt.show()"
   ]
  },
  {
   "attachments": {},
   "cell_type": "markdown",
   "metadata": {},
   "source": [
    "# 4 EDA of Categorical Variables"
   ]
  },
  {
   "cell_type": "code",
   "execution_count": null,
   "metadata": {},
   "outputs": [],
   "source": [
    "df_categorical = df[categorical_col]\n",
    "df_categorical.columns.sort_values()"
   ]
  },
  {
   "attachments": {},
   "cell_type": "markdown",
   "metadata": {},
   "source": [
    "# A. Missing value treatment"
   ]
  },
  {
   "cell_type": "code",
   "execution_count": null,
   "metadata": {},
   "outputs": [],
   "source": [
    "mask = list(df_categorical.isna().any())\n",
    "categorical_with_null = df_categorical.columns[mask]\n",
    "categorical_with_null.sort_values()"
   ]
  },
  {
   "cell_type": "code",
   "execution_count": null,
   "metadata": {},
   "outputs": [],
   "source": [
    "print('total number of categorical null values:', df_categorical.isna().sum().sum(), '\\n')\n",
    "\n",
    "\n",
    "missing_number_categorical = df[categorical_with_null].isna().sum().sort_values(ascending=False)\n",
    "missing_percentage_categorical = (missing_number_categorical / len(df)).round(4) * 100\n",
    "missing_info_categorical = pd.concat([missing_number_categorical, missing_percentage_categorical], axis=1, keys=['missing number', 'missing percentage'])\n",
    "missing_info_categorical"
   ]
  },
  {
   "attachments": {},
   "cell_type": "markdown",
   "metadata": {},
   "source": [
    "### dropping variables with large percentage of missing values"
   ]
  },
  {
   "cell_type": "code",
   "execution_count": null,
   "metadata": {},
   "outputs": [],
   "source": [
    "df_categorical = df_categorical.drop(['PoolQC', 'MiscFeature', 'Alley', 'Fence', 'FireplaceQu'], axis=1)\n",
    "df_categorical.isna().sum().sum()"
   ]
  },
  {
   "cell_type": "code",
   "execution_count": null,
   "metadata": {},
   "outputs": [],
   "source": [
    "# replace missing categorical values variables with the mode of each column\n",
    "\n",
    "df_categorical = df_categorical.fillna(df_categorical.mode().iloc[0])\n",
    "df_categorical.head()"
   ]
  },
  {
   "cell_type": "code",
   "execution_count": null,
   "metadata": {},
   "outputs": [],
   "source": [
    "# adding saleprice to df_categorical\n",
    "df_categorical['SalePrice'] = df.loc[df_categorical.index, 'SalePrice'].copy()\n",
    "df_categorical.head()"
   ]
  },
  {
   "attachments": {},
   "cell_type": "markdown",
   "metadata": {},
   "source": [
    "# Count plot for bivariate analysis"
   ]
  },
  {
   "cell_type": "code",
   "execution_count": null,
   "metadata": {},
   "outputs": [],
   "source": [
    "for i in range(0, len(df_categorical.columns), 2):\n",
    "    if df_categorical.columns[i] != 'SalePrice':\n",
    "      plt.figure(figsize=(10, 4))\n",
    "      plt.subplot(121)\n",
    "      plt.xticks(rotation=90)\n",
    "      sns.barplot(y='SalePrice', x=df_categorical.columns[i], data=df_categorical)\n",
    "      plt.subplot(122)\n",
    "      plt.xticks(rotation=90)\n",
    "      sns.barplot(y='SalePrice', x=df_categorical.columns[i + 1], data=df_categorical)\n",
    "      plt.tight_layout()\n",
    "      plt.show()"
   ]
  },
  {
   "attachments": {},
   "cell_type": "markdown",
   "metadata": {},
   "source": [
    "# 4C Identify significant variables using p-values and Chi-Square values\n"
   ]
  },
  {
   "cell_type": "code",
   "execution_count": null,
   "metadata": {},
   "outputs": [],
   "source": [
    "import numpy as np\n",
    "import scipy.stats as stats\n",
    "from scipy.stats import chi2_contingency\n",
    "\n",
    "class ChiSquare:\n",
    "  def __init__(self, dataframe):\n",
    "      self.df = dataframe\n",
    "      self.p = None #P-Value\n",
    "      self.chi2 = None #Chi-square Test Statistic\n",
    "      self.dof = None\n",
    "      self.important_var = []\n",
    "      self.unimportant_var = []\n",
    "      \n",
    "      self.dfObserved = None\n",
    "      self.dfExpected = None\n",
    "\n",
    "  #Function to print the results of p-value and chi-square test     \n",
    "  def _select_significant_var(self, colX, alpha):\n",
    "      if self.p < alpha:\n",
    "          self.important_var.append(colX)\n",
    "      else:\n",
    "          self.unimportant_var.append(colX)\n",
    "  #Function to determine chi-square and p-value less than or equal to 0.05\n",
    "  def TestIndependence(self,colX,colY, alpha=0.05):\n",
    "      X = self.df[colX].astype(str)\n",
    "      Y = self.df[colY].astype(str)\n",
    "      \n",
    "      self.dfObserved = pd.crosstab(Y,X) \n",
    "      chi2, p, dof, expected = stats.chi2_contingency(self.dfObserved.values)\n",
    "      self.p = p\n",
    "      self.chi2 = chi2\n",
    "      self.dof = dof \n",
    "      \n",
    "      self.dfExpected = pd.DataFrame(expected, columns=self.dfObserved.columns, index = self.dfObserved.index)\n",
    "      \n",
    "      self._select_significant_var(colX, alpha)\n",
    "\n",
    "\n",
    "#Initializing ChiSquare Class\n",
    "cT = ChiSquare(df_categorical)\n",
    "\n",
    "#Perform Feature Selection\n",
    "\n",
    "for var in df_categorical.columns:\n",
    "    cT.TestIndependence(colX=var,colY=\"SalePrice\") \n",
    "\n",
    "print(cT.important_var)"
   ]
  },
  {
   "cell_type": "code",
   "execution_count": null,
   "metadata": {},
   "outputs": [],
   "source": [
    "# Keep significant variables\n",
    "df_categorical = df_categorical[['MSZoning', 'Street', 'LotShape', 'LotConfig', 'Neighborhood', 'MasVnrType', 'ExterQual', 'ExterCond', 'Foundation', 'BsmtQual', 'BsmtCond', 'BsmtExposure', 'Heating', 'CentralAir', 'KitchenQual', 'GarageFinish', 'SaleType', 'SaleCondition', 'SalePrice']]\n",
    "df_categorical.head(2)"
   ]
  },
  {
   "cell_type": "code",
   "execution_count": null,
   "metadata": {},
   "outputs": [],
   "source": []
  },
  {
   "cell_type": "code",
   "execution_count": null,
   "metadata": {},
   "outputs": [],
   "source": [
    "# We will select categorical variables lower than 0.5\n",
    "selected_significant_var = ['Neighborhood', 'BldgType', 'HeatingQC', 'GarageType', 'LandSlope', 'HouseStyle', 'Exterior2nd', 'LotShape', 'BsmtFinType1', 'Exterior1st']\n",
    "significant_categorical_var = df_categorical[selected_significant_var]\n",
    "significant_categorical_var"
   ]
  },
  {
   "attachments": {},
   "cell_type": "markdown",
   "metadata": {},
   "source": [
    "# 5 Combine all the significant categorical and numerical variables\n"
   ]
  },
  {
   "cell_type": "code",
   "execution_count": null,
   "metadata": {},
   "outputs": [],
   "source": [
    "final = df_categorical.join(significant_numerical_var)\n",
    "final"
   ]
  },
  {
   "cell_type": "code",
   "execution_count": null,
   "metadata": {},
   "outputs": [],
   "source": [
    "fig, axs = plt.subplots(ncols=3, nrows=6, figsize=(35, 45))\n",
    "index=0\n",
    "axs = axs.flatten()\n",
    "\n",
    "for item in df_categorical.columns:\n",
    "    if (item != 'SalePrice'):\n",
    "      sns.boxplot(y='SalePrice', x=item, data=df_categorical, ax=axs[index])\n",
    "      ax=axs[index]\n",
    "      index += 1 \n",
    "       \n",
    "plt.show()"
   ]
  },
  {
   "cell_type": "markdown",
   "metadata": {},
   "source": []
  }
 ],
 "metadata": {
  "kernelspec": {
   "display_name": "base",
   "language": "python",
   "name": "python3"
  },
  "language_info": {
   "codemirror_mode": {
    "name": "ipython",
    "version": 3
   },
   "file_extension": ".py",
   "mimetype": "text/x-python",
   "name": "python",
   "nbconvert_exporter": "python",
   "pygments_lexer": "ipython3",
   "version": "3.9.13"
  },
  "orig_nbformat": 4,
  "vscode": {
   "interpreter": {
    "hash": "81d1c3af0d7893cb02b7b69a6c688bdb56d66dc5d0875e48f32636aa505ff5f0"
   }
  }
 },
 "nbformat": 4,
 "nbformat_minor": 2
}
